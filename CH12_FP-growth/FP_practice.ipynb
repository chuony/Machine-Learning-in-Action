{
 "cells": [
  {
   "cell_type": "code",
   "execution_count": 1,
   "metadata": {},
   "outputs": [],
   "source": [
    "import re"
   ]
  },
  {
   "cell_type": "code",
   "execution_count": 13,
   "metadata": {},
   "outputs": [],
   "source": [
    "# 返回一个事务列表\n",
    "def loadSimpDat():\n",
    "    simpDat = [['r', 'z', 'h', 'j', 'p'],\n",
    "               ['z', 'y', 'x', 'w', 'v', 'u', 't', 's'],\n",
    "               ['z'],\n",
    "               ['r', 'x', 'n', 'o', 's'],\n",
    "               ['y', 'r', 'x', 'z', 'q', 't', 'p'],\n",
    "               ['y', 'z', 'x', 'e', 'q', 's', 't', 'm']]\n",
    "    return simpDat"
   ]
  },
  {
   "cell_type": "code",
   "execution_count": 14,
   "metadata": {},
   "outputs": [],
   "source": [
    "def createInitSet(dataSet):\n",
    "    retDict = {}\n",
    "    for trans in dataSet:\n",
    "        retDict[frozenset(trans)] = 1\n",
    "    return retDict"
   ]
  },
  {
   "cell_type": "code",
   "execution_count": 15,
   "metadata": {},
   "outputs": [
    {
     "data": {
      "text/plain": [
       "[['r', 'z', 'h', 'j', 'p'],\n",
       " ['z', 'y', 'x', 'w', 'v', 'u', 't', 's'],\n",
       " ['z'],\n",
       " ['r', 'x', 'n', 'o', 's'],\n",
       " ['y', 'r', 'x', 'z', 'q', 't', 'p'],\n",
       " ['y', 'z', 'x', 'e', 'q', 's', 't', 'm']]"
      ]
     },
     "execution_count": 15,
     "metadata": {},
     "output_type": "execute_result"
    }
   ],
   "source": [
    "simpDat = loadSimpDat()\n",
    "simpDat"
   ]
  },
  {
   "cell_type": "code",
   "execution_count": 16,
   "metadata": {},
   "outputs": [
    {
     "data": {
      "text/plain": [
       "{frozenset({'h', 'j', 'p', 'r', 'z'}): 1,\n",
       " frozenset({'s', 't', 'u', 'v', 'w', 'x', 'y', 'z'}): 1,\n",
       " frozenset({'z'}): 1,\n",
       " frozenset({'n', 'o', 'r', 's', 'x'}): 1,\n",
       " frozenset({'p', 'q', 'r', 't', 'x', 'y', 'z'}): 1,\n",
       " frozenset({'e', 'm', 'q', 's', 't', 'x', 'y', 'z'}): 1}"
      ]
     },
     "execution_count": 16,
     "metadata": {},
     "output_type": "execute_result"
    }
   ],
   "source": [
    "initSet = createInitSet(simpDat)\n",
    "initSet"
   ]
  },
  {
   "cell_type": "code",
   "execution_count": 17,
   "metadata": {},
   "outputs": [],
   "source": [
    "headerTable = {}\n",
    "for trans in initSet: \n",
    "    for item in trans:\n",
    "        headerTable[item] = headerTable.get(item, 0) + initSet[trans]"
   ]
  },
  {
   "cell_type": "code",
   "execution_count": 18,
   "metadata": {},
   "outputs": [
    {
     "data": {
      "text/plain": [
       "{'z': 5,\n",
       " 'p': 2,\n",
       " 'j': 1,\n",
       " 'r': 3,\n",
       " 'h': 1,\n",
       " 'v': 1,\n",
       " 'u': 1,\n",
       " 'w': 1,\n",
       " 'y': 3,\n",
       " 's': 3,\n",
       " 'x': 4,\n",
       " 't': 3,\n",
       " 'n': 1,\n",
       " 'o': 1,\n",
       " 'q': 2,\n",
       " 'e': 1,\n",
       " 'm': 1}"
      ]
     },
     "execution_count": 18,
     "metadata": {},
     "output_type": "execute_result"
    }
   ],
   "source": [
    "headerTable"
   ]
  },
  {
   "cell_type": "code",
   "execution_count": 19,
   "metadata": {},
   "outputs": [],
   "source": [
    "for k in list(headerTable):     # 原书中代码出现错误\n",
    "# https://stackoverflow.com/questions/11941817/how-to-avoid-runtimeerror-dictionary-changed-size-during-iteration-error\n",
    "    if headerTable[k] < 3: \n",
    "        del(headerTable[k])"
   ]
  },
  {
   "cell_type": "code",
   "execution_count": 20,
   "metadata": {},
   "outputs": [
    {
     "data": {
      "text/plain": [
       "{'z': 5, 'r': 3, 'y': 3, 's': 3, 'x': 4, 't': 3}"
      ]
     },
     "execution_count": 20,
     "metadata": {},
     "output_type": "execute_result"
    }
   ],
   "source": [
    "headerTable"
   ]
  },
  {
   "cell_type": "code",
   "execution_count": 21,
   "metadata": {},
   "outputs": [
    {
     "data": {
      "text/plain": [
       "{'r', 's', 't', 'x', 'y', 'z'}"
      ]
     },
     "execution_count": 21,
     "metadata": {},
     "output_type": "execute_result"
    }
   ],
   "source": [
    "freqItemSet = set(headerTable.keys())\n",
    "freqItemSet"
   ]
  },
  {
   "cell_type": "code",
   "execution_count": 22,
   "metadata": {},
   "outputs": [],
   "source": [
    "for k in headerTable:\n",
    "    headerTable[k] = [headerTable[k], None] "
   ]
  },
  {
   "cell_type": "code",
   "execution_count": 23,
   "metadata": {},
   "outputs": [
    {
     "data": {
      "text/plain": [
       "{'z': [5, None],\n",
       " 'r': [3, None],\n",
       " 'y': [3, None],\n",
       " 's': [3, None],\n",
       " 'x': [4, None],\n",
       " 't': [3, None]}"
      ]
     },
     "execution_count": 23,
     "metadata": {},
     "output_type": "execute_result"
    }
   ],
   "source": [
    "headerTable"
   ]
  },
  {
   "cell_type": "code",
   "execution_count": 24,
   "metadata": {},
   "outputs": [],
   "source": [
    "class treeNode:\n",
    "    def __init__(self, nameValue, numOccur, parentNode):\n",
    "        self.name = nameValue       # 存放节点名字\n",
    "        self.count = numOccur       # 节点出现次数\n",
    "        self.nodeLink = None       # 不同项集的相同项通过nodelink连接在一起\n",
    "        self.parent = parentNode   # 指向当前节点的父节点。\n",
    "        # parentNode通常情况下并不需要这个变量。因为通常是从上往下迭代访问节点的。后面的内容中需要根据给定叶子节点上溯整棵树，这时就需要指向父节点的指针。\n",
    "        self.children = {}         # 空字典变量，用于存放节点的子节点。\n",
    "    # 两个方法：inc()对count变量增加给定值，而另一个方法disp()用于将树以文本形式显示。后者对于树构建来说并不是必要的，但是它对于调试非常有用。 \n",
    "    def inc(self, numOccur):\n",
    "        self.count += numOccur\n",
    "        \n",
    "    def disp(self, ind=1):\n",
    "        print ('  '*ind, self.name, ' ', self.count)  # ind缩进\n",
    "        for child in self.children.values():\n",
    "            child.disp(ind+1)"
   ]
  },
  {
   "cell_type": "code",
   "execution_count": 26,
   "metadata": {},
   "outputs": [],
   "source": [
    "retTree = treeNode('Null Set', 1, None)"
   ]
  },
  {
   "cell_type": "code",
   "execution_count": 28,
   "metadata": {},
   "outputs": [
    {
     "data": {
      "text/plain": [
       "{frozenset({'h', 'j', 'p', 'r', 'z'}): 1,\n",
       " frozenset({'s', 't', 'u', 'v', 'w', 'x', 'y', 'z'}): 1,\n",
       " frozenset({'z'}): 1,\n",
       " frozenset({'n', 'o', 'r', 's', 'x'}): 1,\n",
       " frozenset({'p', 'q', 'r', 't', 'x', 'y', 'z'}): 1,\n",
       " frozenset({'e', 'm', 'q', 's', 't', 'x', 'y', 'z'}): 1}"
      ]
     },
     "execution_count": 28,
     "metadata": {},
     "output_type": "execute_result"
    }
   ],
   "source": [
    "initSet"
   ]
  },
  {
   "cell_type": "code",
   "execution_count": 29,
   "metadata": {},
   "outputs": [
    {
     "data": {
      "text/plain": [
       "{'r', 's', 't', 'x', 'y', 'z'}"
      ]
     },
     "execution_count": 29,
     "metadata": {},
     "output_type": "execute_result"
    }
   ],
   "source": [
    "freqItemSet"
   ]
  },
  {
   "cell_type": "code",
   "execution_count": 31,
   "metadata": {},
   "outputs": [
    {
     "name": "stdout",
     "output_type": "stream",
     "text": [
      "frozenset({'z', 'p', 'j', 'r', 'h'})\n",
      "{'z': 5}\n",
      "{'z': 5, 'r': 3}\n",
      "frozenset({'z', 'v', 'u', 'w', 'y', 's', 'x', 't'})\n",
      "{'z': 5}\n",
      "{'z': 5, 'y': 3}\n",
      "{'z': 5, 'y': 3, 's': 3}\n",
      "{'z': 5, 'y': 3, 's': 3, 'x': 4}\n",
      "{'z': 5, 'y': 3, 's': 3, 'x': 4, 't': 3}\n",
      "frozenset({'z'})\n",
      "{'z': 5}\n",
      "frozenset({'n', 'o', 'r', 's', 'x'})\n",
      "{'r': 3}\n",
      "{'r': 3, 's': 3}\n",
      "{'r': 3, 's': 3, 'x': 4}\n",
      "frozenset({'z', 'q', 'p', 'y', 'r', 'x', 't'})\n",
      "{'z': 5}\n",
      "{'z': 5, 'y': 3}\n",
      "{'z': 5, 'y': 3, 'r': 3}\n",
      "{'z': 5, 'y': 3, 'r': 3, 'x': 4}\n",
      "{'z': 5, 'y': 3, 'r': 3, 'x': 4, 't': 3}\n",
      "frozenset({'z', 'q', 'y', 'e', 'm', 's', 'x', 't'})\n",
      "{'z': 5}\n",
      "{'z': 5, 'y': 3}\n",
      "{'z': 5, 'y': 3, 's': 3}\n",
      "{'z': 5, 'y': 3, 's': 3, 'x': 4}\n",
      "{'z': 5, 'y': 3, 's': 3, 'x': 4, 't': 3}\n"
     ]
    }
   ],
   "source": [
    "for tranSet, count in initSet.items():  # 第二次扫描数据集:根据全局频率对每个事务中的元素进行排序\n",
    "    print(tranSet)\n",
    "    localD = {}\n",
    "    for item in tranSet:  \n",
    "        if item in freqItemSet:\n",
    "            localD[item] = headerTable[item][0]\n",
    "            print(localD)"
   ]
  },
  {
   "cell_type": "code",
   "execution_count": 36,
   "metadata": {},
   "outputs": [
    {
     "name": "stdout",
     "output_type": "stream",
     "text": [
      "['z', 'r']\n",
      "['z', 'x', 'y', 's', 't']\n",
      "['z']\n",
      "['x', 'r', 's']\n",
      "['z', 'x', 'y', 'r', 't']\n",
      "['z', 'x', 'y', 's', 't']\n"
     ]
    }
   ],
   "source": [
    "for tranSet, count in initSet.items():  # 第二次扫描数据集:根据全局频率对每个事务中的元素进行排序\n",
    "    localD = {}\n",
    "    for item in tranSet:  \n",
    "        if item in freqItemSet:\n",
    "            localD[item] = headerTable[item][0]\n",
    "    if len(localD) > 0:\n",
    "        orderedItems = [v[0] for v in sorted(localD.items(), key=lambda p: p[1], reverse=True)]\n",
    "        print(orderedItems)"
   ]
  },
  {
   "cell_type": "code",
   "execution_count": 37,
   "metadata": {},
   "outputs": [],
   "source": [
    "def updateTree(items, inTree, headerTable, count):\n",
    "    if items[0] in inTree.children: # orderedItems[0] 是否在 retTree.children中\n",
    "        inTree.children[items[0]].inc(count) #incrament count\n",
    "    else:   # 增加 items[0] 到 inTree.children\n",
    "        inTree.children[items[0]] = treeNode(items[0], count, inTree)\n",
    "        if headerTable[items[0]][1] == None: # 更新header table \n",
    "            headerTable[items[0]][1] = inTree.children[items[0]]\n",
    "        else:\n",
    "            updateHeader(headerTable[items[0]][1], inTree.children[items[0]])\n",
    "    if len(items) > 1:   # 对剩下的元素项迭代调用update Tree函数\n",
    "        updateTree(items[1::], inTree.children[items[0]], headerTable, count)"
   ]
  },
  {
   "cell_type": "code",
   "execution_count": 38,
   "metadata": {},
   "outputs": [],
   "source": [
    "def updateHeader(nodeToTest, targetNode):   # 不要使用递归遍历链表\n",
    "    while (nodeToTest.nodeLink != None):    \n",
    "        nodeToTest = nodeToTest.nodeLink\n",
    "    nodeToTest.nodeLink = targetNode"
   ]
  },
  {
   "cell_type": "code",
   "execution_count": 39,
   "metadata": {},
   "outputs": [],
   "source": [
    "for tranSet, count in initSet.items():  # 第二次扫描数据集:根据全局频率对每个事务中的元素进行排序\n",
    "    localD = {}\n",
    "    for item in tranSet:  \n",
    "        if item in freqItemSet:\n",
    "            localD[item] = headerTable[item][0]\n",
    "    if len(localD) > 0:\n",
    "        orderedItems = [v[0] for v in sorted(localD.items(), key=lambda p: p[1], reverse=True)]\n",
    "        updateTree(orderedItems, retTree, headerTable, count)"
   ]
  },
  {
   "cell_type": "code",
   "execution_count": 40,
   "metadata": {},
   "outputs": [
    {
     "data": {
      "text/plain": [
       "{'z': [5, <__main__.treeNode at 0x227383260c8>],\n",
       " 'r': [3, <__main__.treeNode at 0x22737694e48>],\n",
       " 'y': [3, <__main__.treeNode at 0x22736952cc8>],\n",
       " 's': [3, <__main__.treeNode at 0x22738343048>],\n",
       " 'x': [4, <__main__.treeNode at 0x22736952e88>],\n",
       " 't': [3, <__main__.treeNode at 0x22738343148>]}"
      ]
     },
     "execution_count": 40,
     "metadata": {},
     "output_type": "execute_result"
    }
   ],
   "source": [
    "headerTable"
   ]
  },
  {
   "cell_type": "code",
   "execution_count": 42,
   "metadata": {},
   "outputs": [
    {
     "name": "stdout",
     "output_type": "stream",
     "text": [
      "   Null Set   1\n",
      "     z   5\n",
      "       r   1\n",
      "       x   3\n",
      "         y   3\n",
      "           s   2\n",
      "             t   2\n",
      "           r   1\n",
      "             t   1\n",
      "     x   1\n",
      "       r   1\n",
      "         s   1\n"
     ]
    }
   ],
   "source": [
    "retTree.disp() "
   ]
  },
  {
   "cell_type": "code",
   "execution_count": null,
   "metadata": {},
   "outputs": [],
   "source": []
  }
 ],
 "metadata": {
  "kernelspec": {
   "display_name": "py37",
   "language": "python",
   "name": "py37"
  },
  "language_info": {
   "codemirror_mode": {
    "name": "ipython",
    "version": 3
   },
   "file_extension": ".py",
   "mimetype": "text/x-python",
   "name": "python",
   "nbconvert_exporter": "python",
   "pygments_lexer": "ipython3",
   "version": "3.7.10"
  }
 },
 "nbformat": 4,
 "nbformat_minor": 2
}
