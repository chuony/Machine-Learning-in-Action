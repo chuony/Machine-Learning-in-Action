{
 "cells": [
  {
   "cell_type": "markdown",
   "metadata": {},
   "source": [
    "### 缩减系数来“理解”数据\n",
    "* 如果特征比样本点还多（n > m），也就是说输入数据的矩阵X不是满秩矩阵。使用线性回归和之前的方法来做预测是会出错，因为非满秩矩阵在求逆时会出现问题。\n",
    "* 缩减方法：岭回归（ridge regression）；lasso法"
   ]
  },
  {
   "cell_type": "markdown",
   "metadata": {},
   "source": [
    "### 岭回归\n",
    "* 岭回归就是在矩阵$X^TX$上加一个 $\\lambdaI$从而使得矩阵非奇异，进而能对 $X^TX+\\lambdaI$求逆。其中矩阵I是一个 $mxm$的单位矩阵，对角线上元素全为1，其他元素全为0。\n",
    "* 岭回归最先用来处理特征数多于样本数的情况，现在也用于在估计中加入偏差，从而得到更好的估计。这里通过引入λ来限制了所有w之和，通过引入该惩罚项，能够减少不重要的参数，这个技术在统计学中也叫做缩减（shrinkage）。"
   ]
  },
  {
   "cell_type": "markdown",
   "metadata": {},
   "source": [
    "* 通过预测误差最小化得到λ：数据获取之后，首先抽一部分数据用于测试，剩余的作为训练集用于训练参数w。训练完毕后在测试集上测试预测性能。通过选取不同的λ来重复上述测试过程，最终得到一个使预测误差最小的λ。"
   ]
  },
  {
   "cell_type": "code",
   "execution_count": 9,
   "metadata": {},
   "outputs": [],
   "source": [
    "from numpy import *"
   ]
  },
  {
   "cell_type": "code",
   "execution_count": 2,
   "metadata": {},
   "outputs": [],
   "source": [
    "def ridgeRegres(xMat,yMat,lam=0.2):\n",
    "    xTx = xMat.T*xMat\n",
    "    denom = xTx + eye(shape(xMat)[1])*lam\n",
    "    if linalg.det(denom) == 0.0:\n",
    "        print (\"This matrix is singular, cannot do inverse\")\n",
    "        return\n",
    "    ws = denom.I * (xMat.T*yMat)\n",
    "    return ws"
   ]
  },
  {
   "cell_type": "markdown",
   "metadata": {},
   "source": [
    "* 做标准化时：y值也要做处理？结果与标准化前是一致的么？"
   ]
  },
  {
   "cell_type": "code",
   "execution_count": 4,
   "metadata": {},
   "outputs": [],
   "source": [
    "def ridgeTest(xArr,yArr):\n",
    "    xMat = mat(xArr); yMat=mat(yArr).T\n",
    "    yMean = mean(yMat,0)\n",
    "    yMat = yMat - yMean        # y值也要做处理？\n",
    "    # 标准化处理：所有特征都减去各自的均值并除以方差（第二章用过）\n",
    "    xMeans = mean(xMat,0)   \n",
    "    xVar = var(xMat,0)      \n",
    "    xMat = (xMat - xMeans)/xVar\n",
    "    numTestPts = 30\n",
    "    wMat = zeros((numTestPts,shape(xMat)[1]))\n",
    "    for i in range(numTestPts):                # 30个不同的lambda\n",
    "        ws = ridgeRegres(xMat,yMat,exp(i-10))  # lambda应以指数级变化，这样可以看出lambda在取非常小的值时和取非常大的值时分别对结果造成的影响。\n",
    "        wMat[i,:]=ws.T                         # 最后将所有的回归系数输出到一个矩阵并返回\n",
    "    return wMat"
   ]
  },
  {
   "cell_type": "code",
   "execution_count": 6,
   "metadata": {},
   "outputs": [],
   "source": [
    "# 通用函数：用于分析制表符分隔的浮点数\n",
    "def loadDataSet(fileName):      \n",
    "    numFeat = len(open(fileName).readline().split('\\t')) - 1  \n",
    "    dataMat = []; labelMat = []\n",
    "    fr = open(fileName)\n",
    "    for line in fr.readlines():\n",
    "        lineArr =[]\n",
    "        curLine = line.strip().split('\\t')\n",
    "        for i in range(numFeat):\n",
    "            lineArr.append(float(curLine[i]))\n",
    "        dataMat.append(lineArr)\n",
    "        labelMat.append(float(curLine[-1]))\n",
    "    return dataMat,labelMat"
   ]
  },
  {
   "cell_type": "code",
   "execution_count": 7,
   "metadata": {},
   "outputs": [],
   "source": [
    "abX,abY = loadDataSet('abalone.txt')"
   ]
  },
  {
   "cell_type": "code",
   "execution_count": 10,
   "metadata": {},
   "outputs": [],
   "source": [
    "ridgeWeights = ridgeTest(abX,abY)"
   ]
  },
  {
   "cell_type": "code",
   "execution_count": 11,
   "metadata": {},
   "outputs": [
    {
     "data": {
      "text/plain": [
       "array([[ 4.30441949e-02, -2.27416346e-02,  1.32140875e-01,\n",
       "         2.07518171e-02,  2.22403745e+00, -9.98952980e-01,\n",
       "        -1.17254237e-01,  1.66229222e-01],\n",
       "       [ 4.30441928e-02, -2.27416370e-02,  1.32140878e-01,\n",
       "         2.07518175e-02,  2.22403626e+00, -9.98952746e-01,\n",
       "        -1.17254174e-01,  1.66229339e-01],\n",
       "       [ 4.30441874e-02, -2.27416435e-02,  1.32140885e-01,\n",
       "         2.07518187e-02,  2.22403305e+00, -9.98952110e-01,\n",
       "        -1.17254003e-01,  1.66229656e-01],\n",
       "       [ 4.30441725e-02, -2.27416613e-02,  1.32140904e-01,\n",
       "         2.07518218e-02,  2.22402431e+00, -9.98950381e-01,\n",
       "        -1.17253537e-01,  1.66230518e-01],\n",
       "       [ 4.30441321e-02, -2.27417096e-02,  1.32140956e-01,\n",
       "         2.07518304e-02,  2.22400054e+00, -9.98945682e-01,\n",
       "        -1.17252271e-01,  1.66232862e-01],\n",
       "       [ 4.30440221e-02, -2.27418409e-02,  1.32141096e-01,\n",
       "         2.07518537e-02,  2.22393595e+00, -9.98932910e-01,\n",
       "        -1.17248829e-01,  1.66239232e-01],\n",
       "       [ 4.30437233e-02, -2.27421979e-02,  1.32141478e-01,\n",
       "         2.07519172e-02,  2.22376039e+00, -9.98898194e-01,\n",
       "        -1.17239474e-01,  1.66256548e-01],\n",
       "       [ 4.30429113e-02, -2.27431678e-02,  1.32142515e-01,\n",
       "         2.07520895e-02,  2.22328329e+00, -9.98803852e-01,\n",
       "        -1.17214052e-01,  1.66303602e-01],\n",
       "       [ 4.30407046e-02, -2.27458017e-02,  1.32145332e-01,\n",
       "         2.07525578e-02,  2.22198741e+00, -9.98547601e-01,\n",
       "        -1.17145004e-01,  1.66431407e-01],\n",
       "       [ 4.30347123e-02, -2.27529424e-02,  1.32152966e-01,\n",
       "         2.07538284e-02,  2.21847227e+00, -9.97852472e-01,\n",
       "        -1.16957711e-01,  1.66778081e-01],\n",
       "       [ 4.30184675e-02, -2.27722126e-02,  1.32173559e-01,\n",
       "         2.07572661e-02,  2.20897149e+00, -9.95973454e-01,\n",
       "        -1.16451543e-01,  1.67715018e-01],\n",
       "       [ 4.29746297e-02, -2.28235752e-02,  1.32228367e-01,\n",
       "         2.07664921e-02,  2.18354085e+00, -9.90942319e-01,\n",
       "        -1.15097046e-01,  1.70222495e-01],\n",
       "       [ 4.28577312e-02, -2.29559989e-02,  1.32369106e-01,\n",
       "         2.07907345e-02,  2.11720346e+00, -9.77806941e-01,\n",
       "        -1.11566313e-01,  1.76760445e-01],\n",
       "       [ 4.25549098e-02, -2.32687743e-02,  1.32697602e-01,\n",
       "         2.08511389e-02,  1.95519695e+00, -9.45650756e-01,\n",
       "        -1.02961150e-01,  1.92706927e-01],\n",
       "       [ 4.18155132e-02, -2.38589213e-02,  1.33292611e-01,\n",
       "         2.09849611e-02,  1.61601008e+00, -8.77852799e-01,\n",
       "        -8.50512251e-02,  2.25969313e-01],\n",
       "       [ 4.01492798e-02, -2.44550510e-02,  1.33755969e-01,\n",
       "         2.12296384e-02,  1.08953095e+00, -7.70251261e-01,\n",
       "        -5.77793921e-02,  2.76972004e-01],\n",
       "       [ 3.65673674e-02, -2.38616683e-02,  1.32490460e-01,\n",
       "         2.16193833e-02,  5.60169642e-01, -6.52998029e-01,\n",
       "        -3.23384748e-02,  3.25790573e-01],\n",
       "       [ 2.91906322e-02, -2.01676094e-02,  1.26768770e-01,\n",
       "         2.23124536e-02,  2.18722902e-01, -5.50627846e-01,\n",
       "        -2.14575203e-02,  3.49505575e-01],\n",
       "       [ 1.68717960e-02, -1.17311563e-02,  1.13802766e-01,\n",
       "         2.37397017e-02,  6.29538313e-02, -4.43103293e-01,\n",
       "        -2.72193293e-02,  3.39685194e-01],\n",
       "       [ 4.29165213e-03,  9.21482669e-04,  9.38838822e-02,\n",
       "         2.64687430e-02,  1.15497814e-02, -3.07982461e-01,\n",
       "        -3.94039953e-02,  2.91258942e-01],\n",
       "       [-1.47652098e-03,  1.38186073e-02,  7.23070607e-02,\n",
       "         3.05806430e-02,  2.19645913e-03, -1.70793789e-01,\n",
       "        -3.73484528e-02,  2.07951697e-01],\n",
       "       [-1.81708112e-03,  2.15242323e-02,  5.35698473e-02,\n",
       "         3.52346365e-02,  2.98399696e-03, -7.42047457e-02,\n",
       "        -1.71051424e-02,  1.21545772e-01],\n",
       "       [-1.00704676e-03,  2.24063234e-02,  3.88666810e-02,\n",
       "         3.92628263e-02,  4.05427928e-03, -2.43815292e-02,\n",
       "         2.48389274e-03,  6.36243102e-02],\n",
       "       [-4.74692534e-04,  1.93413280e-02,  2.80357180e-02,\n",
       "         4.07375644e-02,  4.06230461e-03, -4.06737598e-03,\n",
       "         1.13678126e-02,  3.37821181e-02],\n",
       "       [-2.27630812e-04,  1.48228678e-02,  1.97175068e-02,\n",
       "         3.65761554e-02,  3.34577112e-03,  2.33550208e-03,\n",
       "         1.21688172e-02,  1.90665065e-02],\n",
       "       [-1.11815225e-04,  9.71354043e-03,  1.24391751e-02,\n",
       "         2.61917020e-02,  2.26256432e-03,  3.02290824e-03,\n",
       "         8.97703191e-03,  1.06308922e-02],\n",
       "       [-5.15139593e-05,  5.15298275e-03,  6.49783788e-03,\n",
       "         1.44507832e-02,  1.21553809e-03,  1.91761111e-03,\n",
       "         4.97760795e-03,  5.24822235e-03],\n",
       "       [-2.14597683e-05,  2.27738812e-03,  2.85477364e-03,\n",
       "         6.48665835e-03,  5.39812718e-04,  9.00311115e-04,\n",
       "         2.23636911e-03,  2.25368909e-03],\n",
       "       [-8.34109967e-06,  9.05722756e-04,  1.13283336e-03,\n",
       "         2.59497753e-03,  2.15072069e-04,  3.65888384e-04,\n",
       "         8.94835365e-04,  8.86543150e-04],\n",
       "       [-3.13618246e-06,  3.43488557e-04,  4.29265642e-04,\n",
       "         9.86279863e-04,  8.16188652e-05,  1.39858822e-04,\n",
       "         3.40121256e-04,  3.34847052e-04]])"
      ]
     },
     "execution_count": 11,
     "metadata": {},
     "output_type": "execute_result"
    }
   ],
   "source": [
    "ridgeWeights"
   ]
  },
  {
   "cell_type": "code",
   "execution_count": 12,
   "metadata": {},
   "outputs": [
    {
     "data": {
      "image/png": "[encoded data removed]",
      "text/plain": [
       "<Figure size 432x288 with 1 Axes>"
      ]
     },
     "metadata": {
      "needs_background": "light"
     },
     "output_type": "display_data"
    }
   ],
   "source": [
    "import matplotlib.pyplot as plt\n",
    "fig = plt.figure()\n",
    "ax = fig.add_subplot(111)   # 回归系数与log(λ)的关系\n",
    "ax.plot(ridgeWeights)       # [[1,2,3],[2,3,4]] lambda=0时为[1,2,3];lambda=1时为[2,3,4]\n",
    "plt.show()"
   ]
  },
  {
   "cell_type": "markdown",
   "metadata": {},
   "source": [
    "* 在最左边，即λ最小时，可以得到所有系数的原始值（与线性回归一致）；而在右边，系数全部缩减成0；在中间部分的某值将可以取得最好的预测效果。为了定量地找到最佳参数值，还需要进行交叉验证。另外，要判断哪些变量对结果预测最具有影响力，在图中观察它们对应的系数大小就可以。 \n",
    "* 也不是完全缩减成0。相当于2范数，权重缩减"
   ]
  },
  {
   "cell_type": "markdown",
   "metadata": {},
   "source": [
    "### lasso\n",
    "* lasso:使用绝对值取代了平方和。\n",
    "* 在λ足够小的时候，一些系数会因此被迫缩减到0，这个特性可以帮助我们更好地理解数据。这两个约束条件在公式上看起来相差无几，但细微的变化却极大地增加了计算复杂度(带绝对值).（为了在这个新的约束条件下解出回归系数，需要使用二次规划算法）。因此使用前向逐步回归"
   ]
  },
  {
   "cell_type": "markdown",
   "metadata": {},
   "source": [
    "#### 前向逐步回归\n",
    "* 前向逐步回归算法可以得到与lasso差不多的效果，但更加简单。它属于一种贪心算法，即每一步都尽可能减少误差。一开始，所有的权重都设为1，然后每一步所做的决策是对某个权重增加或减少一个很小的值。"
   ]
  },
  {
   "cell_type": "code",
   "execution_count": 27,
   "metadata": {},
   "outputs": [],
   "source": [
    "def regularize(xMat):\n",
    "    inMat = xMat.copy()\n",
    "    inMeans = mean(inMat,0)   \n",
    "    inVar = var(inMat,0)      \n",
    "    inMat = (inMat - inMeans)/inVar\n",
    "    return inMat"
   ]
  },
  {
   "cell_type": "code",
   "execution_count": 28,
   "metadata": {},
   "outputs": [],
   "source": [
    "def rssError(yArr,yHatArr):\n",
    "    return ((yArr-yHatArr)**2).sum()"
   ]
  },
  {
   "cell_type": "code",
   "execution_count": 34,
   "metadata": {},
   "outputs": [],
   "source": [
    "def stageWise(xArr,yArr,eps=0.01,numIt=100):\n",
    "    xMat = mat(xArr); yMat=mat(yArr).T\n",
    "    yMean = mean(yMat,0)\n",
    "    yMat = yMat - yMean     #can also regularize ys but will get smaller coef\n",
    "    xMat = regularize(xMat)\n",
    "    m,n=shape(xMat)\n",
    "    returnMat = zeros((numIt,n)) \n",
    "    ws = zeros((n,1)); wsTest = ws.copy(); wsMax = ws.copy()\n",
    "    for i in range(numIt):\n",
    "        #print (ws.T)\n",
    "        lowestError = inf; \n",
    "        for j in range(n):            # 对每个特征\n",
    "            for sign in [-1,1]:       # 增大或缩小\n",
    "                wsTest = ws.copy()\n",
    "                wsTest[j] += eps*sign # 改变一个系数得到一个新的w\n",
    "                yTest = xMat*wsTest   \n",
    "                rssE = rssError(yMat.A,yTest.A)  # 计算新w下的误差\n",
    "                if rssE < lowestError:\n",
    "                    lowestError = rssE\n",
    "                    wsMax = wsTest\n",
    "        ws = wsMax.copy()\n",
    "        returnMat[i,:]=ws.T\n",
    "    return returnMat"
   ]
  },
  {
   "cell_type": "code",
   "execution_count": 35,
   "metadata": {},
   "outputs": [],
   "source": [
    "xArr,yArr = loadDataSet('abalone.txt')"
   ]
  },
  {
   "cell_type": "code",
   "execution_count": 36,
   "metadata": {},
   "outputs": [
    {
     "data": {
      "text/plain": [
       "array([[ 0.  ,  0.  ,  0.  , ...,  0.  ,  0.  ,  0.  ],\n",
       "       [ 0.  ,  0.  ,  0.  , ...,  0.  ,  0.  ,  0.  ],\n",
       "       [ 0.  ,  0.  ,  0.  , ...,  0.  ,  0.  ,  0.  ],\n",
       "       ...,\n",
       "       [ 0.05,  0.  ,  0.09, ..., -0.64,  0.  ,  0.36],\n",
       "       [ 0.04,  0.  ,  0.09, ..., -0.64,  0.  ,  0.36],\n",
       "       [ 0.05,  0.  ,  0.09, ..., -0.64,  0.  ,  0.36]])"
      ]
     },
     "execution_count": 36,
     "metadata": {},
     "output_type": "execute_result"
    }
   ],
   "source": [
    "stageWise(xArr,yArr,0.01,200)"
   ]
  },
  {
   "cell_type": "markdown",
   "metadata": {},
   "source": [
    "* 结果中w1和w6都是0，这表明它们不对目标值造成任何影响，也就是说这些特征很可能是不需要的。\n",
    "* 另外，在参数eps设置为0.01的情况下，一段时间后系数就已经饱和并在特定值之间来回震荡，这是因为步长太大的缘故。这里会看到，第一个权重在0.04和0.05之间来回震荡。"
   ]
  },
  {
   "cell_type": "code",
   "execution_count": 37,
   "metadata": {},
   "outputs": [
    {
     "data": {
      "text/plain": [
       "array([[ 0.   ,  0.   ,  0.   , ...,  0.   ,  0.   ,  0.   ],\n",
       "       [ 0.   ,  0.   ,  0.   , ...,  0.   ,  0.   ,  0.   ],\n",
       "       [ 0.   ,  0.   ,  0.   , ...,  0.   ,  0.   ,  0.   ],\n",
       "       ...,\n",
       "       [ 0.043, -0.011,  0.12 , ..., -0.963, -0.105,  0.187],\n",
       "       [ 0.044, -0.011,  0.12 , ..., -0.963, -0.105,  0.187],\n",
       "       [ 0.043, -0.011,  0.12 , ..., -0.963, -0.105,  0.187]])"
      ]
     },
     "execution_count": 37,
     "metadata": {},
     "output_type": "execute_result"
    }
   ],
   "source": [
    "# 更小的步长和更多的步数： \n",
    "stageWise(xArr,yArr,0.001,5000)"
   ]
  },
  {
   "cell_type": "markdown",
   "metadata": {},
   "source": [
    "* 与最小二乘法对比：可以看到在5000次迭代以后，逐步线性回归算法与常规的最小二乘法效果类似。"
   ]
  },
  {
   "cell_type": "markdown",
   "metadata": {},
   "source": [
    "#### 交叉验证测试岭回归"
   ]
  },
  {
   "cell_type": "code",
   "execution_count": 1,
   "metadata": {},
   "outputs": [],
   "source": [
    "def crossValidation(xArr,yArr,numVal=10):\n",
    "    m = len(yArr)                           \n",
    "    indexList = range(m)\n",
    "    errorMat = zeros((numVal,30))#create error mat 30columns numVal rows\n",
    "    for i in range(numVal):\n",
    "        trainX=[]; trainY=[]\n",
    "        testX = []; testY = []\n",
    "        random.shuffle(indexList)\n",
    "        for j in range(m):#create training set based on first 90% of values in indexList\n",
    "            if j < m*0.9: \n",
    "                trainX.append(xArr[indexList[j]])\n",
    "                trainY.append(yArr[indexList[j]])\n",
    "            else:\n",
    "                testX.append(xArr[indexList[j]])\n",
    "                testY.append(yArr[indexList[j]])\n",
    "        wMat = ridgeTest(trainX,trainY)    #get 30 weight vectors from ridge\n",
    "        for k in range(30):#loop over all of the ridge estimates\n",
    "            matTestX = mat(testX); matTrainX=mat(trainX)\n",
    "            meanTrain = mean(matTrainX,0)\n",
    "            varTrain = var(matTrainX,0)\n",
    "            matTestX = (matTestX-meanTrain)/varTrain #regularize test with training params\n",
    "            yEst = matTestX * mat(wMat[k,:]).T + mean(trainY)#test ridge results and store\n",
    "            errorMat[i,k]=rssError(yEst.T.A,array(testY))\n",
    "            #print errorMat[i,k]\n",
    "    # 按列取平均值\n",
    "    meanErrors = mean(errorMat,0)#calc avg performance of the different ridge weight vectors\n",
    "    minMean = float(min(meanErrors))\n",
    "    bestWeights = wMat[nonzero(meanErrors==minMean)]\n",
    "    #can unregularize to get model\n",
    "    #when we regularized we wrote Xreg = (x-meanX)/var(x)\n",
    "    #we can now write in terms of x not Xreg:  x*w/var(x) - meanX/var(x) +meanY\n",
    "    xMat = mat(xArr); yMat=mat(yArr).T\n",
    "    meanX = mean(xMat,0); varX = var(xMat,0)\n",
    "    unReg = bestWeights/varX\n",
    "    print (\"the best model from Ridge Regression is:\\n\",unReg)\n",
    "    print (\"with constant term: \",-1*sum(multiply(meanX,unReg)) + mean(yMat)) # 数据还原"
   ]
  },
  {
   "cell_type": "markdown",
   "metadata": {},
   "source": [
    "### 总结\n",
    "* 岭回归是缩减法的一种，相当于对回归系数的大小施加了限制。另一种很好的缩减法是lasso。Lasso难以求解，但可以使用计算简便的逐步线性回归方法来求得近似结果。\n",
    "* 缩减法还可以看做是对一个模型增加偏差的同时减少方差。偏差方差折中是一个重要的概念，可以帮助我们理解现有模型并做出改进，从而得到更好的模型。"
   ]
  },
  {
   "cell_type": "code",
   "execution_count": null,
   "metadata": {},
   "outputs": [],
   "source": []
  }
 ],
 "metadata": {
  "kernelspec": {
   "display_name": "py37",
   "language": "python",
   "name": "py37"
  },
  "language_info": {
   "codemirror_mode": {
    "name": "ipython",
    "version": 3
   },
   "file_extension": ".py",
   "mimetype": "text/x-python",
   "name": "python",
   "nbconvert_exporter": "python",
   "pygments_lexer": "ipython3",
   "version": "3.7.10"
  }
 },
 "nbformat": 4,
 "nbformat_minor": 2
}
