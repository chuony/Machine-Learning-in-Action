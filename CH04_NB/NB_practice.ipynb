{
 "cells": [
  {
   "cell_type": "code",
   "execution_count": 4,
   "metadata": {},
   "outputs": [],
   "source": [
    "# 创建一些实验样本。文档来自于斑点犬爱好者留言板。\n",
    "def loadDataSet():\n",
    "    postingList=[['my', 'dog', 'has', 'flea', 'problems', 'help', 'please'],\n",
    "                 ['maybe', 'not', 'take', 'him', 'to', 'dog', 'park', 'stupid'],\n",
    "                 ['my', 'dalmation', 'is', 'so', 'cute', 'I', 'love', 'him'],\n",
    "                 ['stop', 'posting', 'stupid', 'worthless', 'garbage'],\n",
    "                 ['mr', 'licks', 'ate', 'my', 'steak', 'how', 'to', 'stop', 'him'],\n",
    "                 ['quit', 'buying', 'worthless', 'dog', 'food', 'stupid']]\n",
    "    classVec = [0,1,0,1,0,1]      # 1 代表侮辱性言论, 0 代表正常言论\n",
    "    return postingList,classVec"
   ]
  },
  {
   "cell_type": "code",
   "execution_count": 2,
   "metadata": {},
   "outputs": [
    {
     "data": {
      "text/plain": [
       "[['my', 'dog', 'has', 'flea', 'problems', 'help', 'please'],\n",
       " ['maybe', 'not', 'take', 'him', 'to', 'dog', 'park', 'stupid'],\n",
       " ['my', 'dalmation', 'is', 'so', 'cute', 'I', 'love', 'him'],\n",
       " ['stop', 'posting', 'stupid', 'worthless', 'garbage'],\n",
       " ['mr', 'licks', 'ate', 'my', 'steak', 'how', 'to', 'stop', 'him'],\n",
       " ['quit', 'buying', 'worthless', 'dog', 'food', 'stupid']]"
      ]
     },
     "execution_count": 2,
     "metadata": {},
     "output_type": "execute_result"
    }
   ],
   "source": [
    "listOPosts,listClasses = loadDataSet()\n",
    "listOPosts"
   ]
  },
  {
   "cell_type": "code",
   "execution_count": 3,
   "metadata": {},
   "outputs": [
    {
     "name": "stdout",
     "output_type": "stream",
     "text": [
      "{'help', 'problems', 'has', 'please', 'my', 'flea', 'dog'}\n",
      "{'park', 'stupid', 'please', 'my', 'him', 'to', 'has', 'dog', 'not', 'maybe', 'help', 'problems', 'flea', 'take'}\n",
      "{'dalmation', 'park', 'so', 'please', 'my', 'him', 'dog', 'not', 'help', 'take', 'love', 'I', 'to', 'has', 'problems', 'maybe', 'cute', 'is', 'stupid', 'flea'}\n",
      "{'dalmation', 'park', 'worthless', 'so', 'please', 'my', 'him', 'dog', 'stop', 'not', 'help', 'take', 'love', 'garbage', 'I', 'to', 'has', 'problems', 'maybe', 'cute', 'posting', 'is', 'stupid', 'flea'}\n",
      "{'dalmation', 'park', 'worthless', 'ate', 'so', 'please', 'my', 'him', 'steak', 'dog', 'stop', 'not', 'help', 'take', 'love', 'garbage', 'I', 'to', 'has', 'problems', 'mr', 'maybe', 'cute', 'posting', 'licks', 'is', 'how', 'stupid', 'flea'}\n",
      "{'dalmation', 'park', 'food', 'worthless', 'ate', 'so', 'please', 'my', 'him', 'steak', 'quit', 'dog', 'stop', 'not', 'help', 'take', 'love', 'garbage', 'buying', 'I', 'to', 'has', 'problems', 'mr', 'maybe', 'cute', 'posting', 'licks', 'is', 'how', 'stupid', 'flea'}\n"
     ]
    }
   ],
   "source": [
    "vocabSet = set([])    # 创建集合set(),{}是创建一个空字典\n",
    "for i in listOPosts:\n",
    "    vocabSet = vocabSet | set(i)\n",
    "    print(vocabSet)"
   ]
  },
  {
   "cell_type": "code",
   "execution_count": 19,
   "metadata": {},
   "outputs": [
    {
     "name": "stdout",
     "output_type": "stream",
     "text": [
      "{1, 2, 3}\n",
      "{1, 2, 3, 5, 6, 9}\n"
     ]
    }
   ],
   "source": [
    "list1 = [1, 1, 3, 2, 3]\n",
    "s = set(list1)\n",
    "print(s)\n",
    "\n",
    "s.add(9)  # s.add([2,3]) 错误，add函数只能增加与原集合相同类型的元素\n",
    "\n",
    "s.update([3, 5, 6])  # s.update(5) 错误，update更新集合时传入的是一个可迭代对象\n",
    "print(s)"
   ]
  },
  {
   "cell_type": "code",
   "execution_count": 8,
   "metadata": {},
   "outputs": [
    {
     "name": "stdout",
     "output_type": "stream",
     "text": [
      "<class 'set'>\n"
     ]
    }
   ],
   "source": [
    "i = set()\n",
    "print(type(i))"
   ]
  },
  {
   "cell_type": "code",
   "execution_count": 9,
   "metadata": {},
   "outputs": [
    {
     "name": "stdout",
     "output_type": "stream",
     "text": [
      "{'help', 'problems', 'has', 'please', 'my', 'flea', 'dog'}\n",
      "{'park', 'stupid', 'please', 'my', 'him', 'to', 'has', 'dog', 'not', 'maybe', 'help', 'problems', 'flea', 'take'}\n",
      "{'dalmation', 'park', 'so', 'please', 'my', 'him', 'dog', 'not', 'help', 'take', 'love', 'I', 'to', 'has', 'problems', 'maybe', 'cute', 'is', 'stupid', 'flea'}\n",
      "{'dalmation', 'park', 'worthless', 'so', 'please', 'my', 'him', 'dog', 'stop', 'not', 'help', 'take', 'love', 'garbage', 'I', 'to', 'has', 'problems', 'maybe', 'cute', 'posting', 'is', 'stupid', 'flea'}\n",
      "{'dalmation', 'park', 'worthless', 'ate', 'so', 'please', 'my', 'him', 'steak', 'dog', 'stop', 'not', 'help', 'take', 'love', 'garbage', 'I', 'to', 'has', 'problems', 'mr', 'maybe', 'cute', 'posting', 'licks', 'is', 'how', 'stupid', 'flea'}\n",
      "{'dalmation', 'park', 'food', 'worthless', 'ate', 'so', 'please', 'my', 'him', 'steak', 'quit', 'dog', 'stop', 'not', 'help', 'take', 'love', 'garbage', 'buying', 'I', 'to', 'has', 'problems', 'mr', 'maybe', 'cute', 'posting', 'licks', 'is', 'how', 'stupid', 'flea'}\n"
     ]
    }
   ],
   "source": [
    "vocabSet = set()\n",
    "for i in listOPosts:\n",
    "    vocabSet = vocabSet | set(i)\n",
    "    print(vocabSet)"
   ]
  },
  {
   "cell_type": "code",
   "execution_count": 16,
   "metadata": {},
   "outputs": [
    {
     "name": "stdout",
     "output_type": "stream",
     "text": [
      "{'help', 'problems', 'has', 'please', 'my', 'flea', 'dog'}\n",
      "{'park', 'stupid', 'please', 'my', 'him', 'to', 'has', 'dog', 'not', 'maybe', 'help', 'problems', 'flea', 'take'}\n",
      "{'dalmation', 'park', 'so', 'please', 'my', 'him', 'dog', 'not', 'help', 'take', 'love', 'I', 'to', 'has', 'problems', 'maybe', 'cute', 'is', 'stupid', 'flea'}\n",
      "{'dalmation', 'park', 'worthless', 'so', 'please', 'my', 'him', 'dog', 'stop', 'not', 'help', 'take', 'love', 'garbage', 'I', 'to', 'has', 'problems', 'maybe', 'cute', 'posting', 'is', 'stupid', 'flea'}\n",
      "{'dalmation', 'park', 'worthless', 'ate', 'so', 'please', 'my', 'him', 'steak', 'dog', 'stop', 'not', 'help', 'take', 'love', 'garbage', 'I', 'to', 'has', 'problems', 'mr', 'maybe', 'cute', 'posting', 'licks', 'is', 'how', 'stupid', 'flea'}\n",
      "{'dalmation', 'park', 'food', 'worthless', 'ate', 'so', 'please', 'my', 'him', 'steak', 'quit', 'dog', 'stop', 'not', 'help', 'take', 'love', 'garbage', 'buying', 'I', 'to', 'has', 'problems', 'mr', 'maybe', 'cute', 'posting', 'licks', 'is', 'how', 'stupid', 'flea'}\n"
     ]
    }
   ],
   "source": [
    "vocabSet = set([])\n",
    "for i in listOPosts:\n",
    "    vocabSet.update(set(i))\n",
    "    print(vocabSet)"
   ]
  },
  {
   "cell_type": "code",
   "execution_count": null,
   "metadata": {},
   "outputs": [],
   "source": [
    "# del list  # 前面定义了list,使用list方法就不好使了。"
   ]
  },
  {
   "cell_type": "code",
   "execution_count": 22,
   "metadata": {},
   "outputs": [
    {
     "data": {
      "text/plain": [
       "['dalmation',\n",
       " 'park',\n",
       " 'food',\n",
       " 'worthless',\n",
       " 'ate',\n",
       " 'so',\n",
       " 'please',\n",
       " 'my',\n",
       " 'him',\n",
       " 'steak',\n",
       " 'quit',\n",
       " 'dog',\n",
       " 'stop',\n",
       " 'not',\n",
       " 'help',\n",
       " 'take',\n",
       " 'love',\n",
       " 'garbage',\n",
       " 'buying',\n",
       " 'I',\n",
       " 'to',\n",
       " 'has',\n",
       " 'problems',\n",
       " 'mr',\n",
       " 'maybe',\n",
       " 'cute',\n",
       " 'posting',\n",
       " 'licks',\n",
       " 'is',\n",
       " 'how',\n",
       " 'stupid',\n",
       " 'flea']"
      ]
     },
     "execution_count": 22,
     "metadata": {},
     "output_type": "execute_result"
    }
   ],
   "source": [
    "list(vocabSet)"
   ]
  },
  {
   "cell_type": "code",
   "execution_count": null,
   "metadata": {},
   "outputs": [],
   "source": []
  },
  {
   "cell_type": "code",
   "execution_count": 1,
   "metadata": {},
   "outputs": [
    {
     "data": {
      "text/plain": [
       "array([0., 0., 0., 0., 0.])"
      ]
     },
     "execution_count": 1,
     "metadata": {},
     "output_type": "execute_result"
    }
   ],
   "source": [
    "from numpy import *\n",
    "zeros(5)"
   ]
  },
  {
   "cell_type": "code",
   "execution_count": 38,
   "metadata": {},
   "outputs": [],
   "source": [
    "trainMatrix=[[1,0,1],[0,1,1],[0,0,0]]\n",
    "trainCategory=[1,0,1]"
   ]
  },
  {
   "cell_type": "code",
   "execution_count": 39,
   "metadata": {},
   "outputs": [
    {
     "name": "stdout",
     "output_type": "stream",
     "text": [
      "3\n",
      "3\n",
      "0.6666666666666666\n",
      "[0. 0. 0.]\n"
     ]
    }
   ],
   "source": [
    "numTrainDocs = len(trainMatrix)\n",
    "print(numTrainDocs)\n",
    "numWords = len(trainMatrix[0])\n",
    "print(numWords)\n",
    "pAbusive = sum(trainCategory)/float(numTrainDocs)\n",
    "print(pAbusive)\n",
    "p0Num = zeros(numWords); p1Num = zeros(numWords)\n",
    "print(p0Num)\n",
    "p0Denom = 0.0; p1Denom = 0.0"
   ]
  },
  {
   "cell_type": "code",
   "execution_count": 40,
   "metadata": {},
   "outputs": [
    {
     "name": "stdout",
     "output_type": "stream",
     "text": [
      "2.0\n",
      "2.0\n"
     ]
    }
   ],
   "source": [
    "for i in range(numTrainDocs):\n",
    "    if trainCategory[i] == 1:\n",
    "        p1Num += trainMatrix[i]                # [1,0,1]+[0,0,0]\n",
    "        p1Denom += sum(trainMatrix[i])         # 1+1+0+0 (不是类别为1的文档个数。若没有[0,0,0]分母还是2)\n",
    "        print(p1Denom)\n",
    "    else:\n",
    "        p0Num += trainMatrix[i]                # [0,1,1]\n",
    "        p0Denom += sum(trainMatrix[i])         # 1+1"
   ]
  },
  {
   "cell_type": "code",
   "execution_count": 41,
   "metadata": {},
   "outputs": [],
   "source": [
    "p1Vect = p1Num/p1Denom        \n",
    "p0Vect = p0Num/p0Denom"
   ]
  },
  {
   "cell_type": "code",
   "execution_count": 42,
   "metadata": {},
   "outputs": [
    {
     "data": {
      "text/plain": [
       "array([0.5, 0. , 0.5])"
      ]
     },
     "execution_count": 42,
     "metadata": {},
     "output_type": "execute_result"
    }
   ],
   "source": [
    "p1Vect"
   ]
  },
  {
   "cell_type": "code",
   "execution_count": 43,
   "metadata": {},
   "outputs": [
    {
     "data": {
      "text/plain": [
       "array([0. , 0.5, 0.5])"
      ]
     },
     "execution_count": 43,
     "metadata": {},
     "output_type": "execute_result"
    }
   ],
   "source": [
    "p0Vect"
   ]
  },
  {
   "cell_type": "code",
   "execution_count": 48,
   "metadata": {},
   "outputs": [
    {
     "data": {
      "text/plain": [
       "range(0, 50)"
      ]
     },
     "execution_count": 48,
     "metadata": {},
     "output_type": "execute_result"
    }
   ],
   "source": [
    "trainingSet = range(50)\n",
    "trainingSet"
   ]
  },
  {
   "cell_type": "code",
   "execution_count": null,
   "metadata": {},
   "outputs": [],
   "source": []
  }
 ],
 "metadata": {
  "kernelspec": {
   "display_name": "py37",
   "language": "python",
   "name": "py37"
  },
  "language_info": {
   "codemirror_mode": {
    "name": "ipython",
    "version": 3
   },
   "file_extension": ".py",
   "mimetype": "text/x-python",
   "name": "python",
   "nbconvert_exporter": "python",
   "pygments_lexer": "ipython3",
   "version": "3.7.10"
  }
 },
 "nbformat": 4,
 "nbformat_minor": 2
}
