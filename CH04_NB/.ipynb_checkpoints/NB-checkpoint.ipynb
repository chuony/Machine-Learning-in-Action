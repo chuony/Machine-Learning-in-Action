{
 "cells": [
  {
   "cell_type": "markdown",
   "metadata": {},
   "source": [
    "### 朴素贝叶斯\n",
    "* 贝叶斯决策理论：选择高概率对应的类别\n",
    "* 例：若有两个参数已知的概率分布（两类数据），计算所属类比。数据用6个浮点数来表示，使用哪种方法？\n",
    "    * 使用knn，进行1000次距离计算；\n",
    "    * 使用决策树，分别沿x轴和y轴划分数据；\n",
    "    * 计算数据点属于每个类比的概率，并进行比较。\n",
    "* 使用决策树不会非常成功。而和简单的概率计算相比，knn的计算量太大。因此对于上述问题，最佳选择是概率比较的方法。\n",
    "* 条件概率：\n",
    "$\n",
    "p(c_i|w)=\\frac{p(w|c_i)p(c_i)}{p(w)}\n",
    "$"
   ]
  },
  {
   "cell_type": "markdown",
   "metadata": {},
   "source": [
    "* 朴素贝叶斯：特征之间相互独立（每个特征同等重要）\n",
    "* 朴素贝叶斯是用于文档分类的常用算法"
   ]
  },
  {
   "cell_type": "markdown",
   "metadata": {},
   "source": [
    "### 例1：使用python进行文本分类\n",
    "* 从文本中获取特征：特征是来自文本的词条（token），一个词条是字符的任意组合。可以把词条想象为单词，也可以使用非单词词条，如URL、IP地址或者任意其他字符串。\n",
    "* 一个文本片段表示为一个词条向量：1表示词条出现在文档中；0表示词条未出现。"
   ]
  },
  {
   "cell_type": "markdown",
   "metadata": {},
   "source": [
    "#### 1.准备数据：从文本中构建词向量"
   ]
  },
  {
   "cell_type": "code",
   "execution_count": 4,
   "metadata": {},
   "outputs": [],
   "source": [
    "# 创建一些实验样本。文档来自于斑点犬爱好者留言板。\n",
    "def loadDataSet():\n",
    "    postingList=[['my', 'dog', 'has', 'flea', 'problems', 'help', 'please'],\n",
    "                 ['maybe', 'not', 'take', 'him', 'to', 'dog', 'park', 'stupid'],\n",
    "                 ['my', 'dalmation', 'is', 'so', 'cute', 'I', 'love', 'him'],\n",
    "                 ['stop', 'posting', 'stupid', 'worthless', 'garbage'],\n",
    "                 ['mr', 'licks', 'ate', 'my', 'steak', 'how', 'to', 'stop', 'him'],\n",
    "                 ['quit', 'buying', 'worthless', 'dog', 'food', 'stupid']]\n",
    "    classVec = [0,1,0,1,0,1]      # 1 代表侮辱性言论, 0 代表正常言论\n",
    "    return postingList,classVec"
   ]
  },
  {
   "cell_type": "code",
   "execution_count": 5,
   "metadata": {},
   "outputs": [],
   "source": [
    "# 获得词汇表：创建一个包含在所有文档中出现的不重复词的列表\n",
    "def createVocabList(dataSet):\n",
    "    vocabSet = set([])                       # 创建空集合set(),{}是创建一个空字典\n",
    "    # vocabSet = set()\n",
    "    for document in dataSet:\n",
    "        vocabSet = vocabSet | set(document)  # 两个集合的并集\n",
    "        # vocabSet.update(set(i))  # 用set的方法也可\n",
    "    return list(vocabSet)\n",
    "\n",
    "# 将文档转换为向量：输入为词汇表及某个文档，输出为文档向量\n",
    "def setOfWords2Vec(vocabList, inputSet):\n",
    "    returnVec = [0]*len(vocabList)\n",
    "    for word in inputSet:\n",
    "        if word in vocabList:\n",
    "            returnVec[vocabList.index(word)] = 1\n",
    "        else: print (\"the word: %s is not in my Vocabulary!\" % word)\n",
    "    return returnVec"
   ]
  },
  {
   "cell_type": "code",
   "execution_count": 4,
   "metadata": {},
   "outputs": [
    {
     "data": {
      "text/plain": [
       "[['my', 'dog', 'has', 'flea', 'problems', 'help', 'please'],\n",
       " ['maybe', 'not', 'take', 'him', 'to', 'dog', 'park', 'stupid'],\n",
       " ['my', 'dalmation', 'is', 'so', 'cute', 'I', 'love', 'him'],\n",
       " ['stop', 'posting', 'stupid', 'worthless', 'garbage'],\n",
       " ['mr', 'licks', 'ate', 'my', 'steak', 'how', 'to', 'stop', 'him'],\n",
       " ['quit', 'buying', 'worthless', 'dog', 'food', 'stupid']]"
      ]
     },
     "execution_count": 4,
     "metadata": {},
     "output_type": "execute_result"
    }
   ],
   "source": [
    "listOPosts,listClasses = loadDataSet()\n",
    "listOPosts"
   ]
  },
  {
   "cell_type": "code",
   "execution_count": 13,
   "metadata": {},
   "outputs": [
    {
     "data": {
      "text/plain": [
       "['posting',\n",
       " 'problems',\n",
       " 'park',\n",
       " 'mr',\n",
       " 'so',\n",
       " 'dog',\n",
       " 'worthless',\n",
       " 'my',\n",
       " 'has',\n",
       " 'stop',\n",
       " 'love',\n",
       " 'quit',\n",
       " 'cute',\n",
       " 'please',\n",
       " 'flea',\n",
       " 'licks',\n",
       " 'stupid',\n",
       " 'food',\n",
       " 'how',\n",
       " 'maybe',\n",
       " 'to',\n",
       " 'garbage',\n",
       " 'take',\n",
       " 'is',\n",
       " 'ate',\n",
       " 'buying',\n",
       " 'help',\n",
       " 'dalmation',\n",
       " 'him',\n",
       " 'I',\n",
       " 'not',\n",
       " 'steak']"
      ]
     },
     "execution_count": 13,
     "metadata": {},
     "output_type": "execute_result"
    }
   ],
   "source": [
    "myVocabList = createVocabList(listOPosts)\n",
    "myVocabList"
   ]
  },
  {
   "cell_type": "code",
   "execution_count": 14,
   "metadata": {},
   "outputs": [
    {
     "data": {
      "text/plain": [
       "[0,\n",
       " 1,\n",
       " 0,\n",
       " 0,\n",
       " 0,\n",
       " 1,\n",
       " 0,\n",
       " 1,\n",
       " 1,\n",
       " 0,\n",
       " 0,\n",
       " 0,\n",
       " 0,\n",
       " 1,\n",
       " 1,\n",
       " 0,\n",
       " 0,\n",
       " 0,\n",
       " 0,\n",
       " 0,\n",
       " 0,\n",
       " 0,\n",
       " 0,\n",
       " 0,\n",
       " 0,\n",
       " 0,\n",
       " 1,\n",
       " 0,\n",
       " 0,\n",
       " 0,\n",
       " 0,\n",
       " 0]"
      ]
     },
     "execution_count": 14,
     "metadata": {},
     "output_type": "execute_result"
    }
   ],
   "source": [
    "setOfWords2Vec(myVocabList,listOPosts[0])"
   ]
  },
  {
   "cell_type": "markdown",
   "metadata": {},
   "source": [
    "#### 2.训练算法：从词向量计算概率\n",
    "* 针对贝叶斯准则，分母都是相同的。因此计算分子条件概率和各类别的概率即可。\n",
    "* 根据假设：$p(w|c_i)=p(w_0|c_i)P(w_1|c_i)...p(w_n|c_i)$\n",
    "* 使用numpy数组好计算，使用Python列表比较麻烦。\n",
    "* 注：计算每个文档中某个类别，每个词占总词数的比值。\n",
    "    * 一个词在一个文档中出现多次则值计算一次，因为文档转换为向量的函数中setOfWords2Vec()只是进行了出现与否，并未统计次数；\n",
    "    * 另外条件概率的分母不是文档的个数，是文档中的总词数；\n",
    "    * 分子计算该词出现在文档中的计数即为1时的概率，没有计算其他特征为0时的概率，跟博客中的例子略有不同。"
   ]
  },
  {
   "cell_type": "code",
   "execution_count": 2,
   "metadata": {},
   "outputs": [],
   "source": [
    "from numpy import *"
   ]
  },
  {
   "cell_type": "code",
   "execution_count": 1,
   "metadata": {},
   "outputs": [],
   "source": [
    "def trainNB0(trainMatrix,trainCategory):\n",
    "    '''\n",
    "    trainMatrix:文档矩阵\n",
    "    trainCategory：每篇文档的类别标签所构成的向量\n",
    "    pAb:侮辱类文档占总文档数的比值（1-pAb则为另一类别的概率）\n",
    "    p0V:任意文档属于侮辱类文档的概率\n",
    "    p1V:任意文档不属于侮辱类文档的概率\n",
    "    '''\n",
    "    numTrainDocs = len(trainMatrix)\n",
    "    numWords = len(trainMatrix[0])\n",
    "    pAbusive = sum(trainCategory)/float(numTrainDocs)   # 各类别占文档总数的概率\n",
    "    p0Num = zeros(numWords); p1Num = zeros(numWords)    # 初始化分子分母 \n",
    "    p0Denom = 0.0; p1Denom = 0.0                       \n",
    "    for i in range(numTrainDocs):                       # 遍历所有文档\n",
    "        if trainCategory[i] == 1:                       # 在某一类别下\n",
    "            # 若某个词语在某一文档中出现，则该词对应的个数（p1Num或p0Num）就加 1\n",
    "            p1Num += trainMatrix[i]\n",
    "            # 另外所有文档中，该文档的总词数也相应加 1\n",
    "            p1Denom += sum(trainMatrix[i])\n",
    "        else:\n",
    "            p0Num += trainMatrix[i]\n",
    "            p0Denom += sum(trainMatrix[i])\n",
    "    # 对每一个元素除以该类别中的总词数\n",
    "    p1Vect = p1Num/p1Denom          \n",
    "    p0Vect = p0Num/p0Denom         \n",
    "    return p0Vect,p1Vect,pAbusive"
   ]
  },
  {
   "cell_type": "code",
   "execution_count": 6,
   "metadata": {},
   "outputs": [],
   "source": [
    "listOPosts,listClasses = loadDataSet()\n",
    "myVocabList = createVocabList(listOPosts)"
   ]
  },
  {
   "cell_type": "code",
   "execution_count": 7,
   "metadata": {},
   "outputs": [],
   "source": [
    "trainMat=[]\n",
    "for postinDoc in listOPosts:\n",
    "    trainMat.append(setOfWords2Vec(myVocabList,postinDoc))"
   ]
  },
  {
   "cell_type": "code",
   "execution_count": 9,
   "metadata": {},
   "outputs": [],
   "source": [
    "p0V,p1V,pAb = trainNB0(trainMat,listClasses)"
   ]
  },
  {
   "cell_type": "code",
   "execution_count": 10,
   "metadata": {},
   "outputs": [
    {
     "data": {
      "text/plain": [
       "0.5"
      ]
     },
     "execution_count": 10,
     "metadata": {},
     "output_type": "execute_result"
    }
   ],
   "source": [
    "pAb"
   ]
  },
  {
   "cell_type": "code",
   "execution_count": 11,
   "metadata": {},
   "outputs": [
    {
     "data": {
      "text/plain": [
       "array([0.04166667, 0.        , 0.125     , 0.04166667, 0.        ,\n",
       "       0.04166667, 0.04166667, 0.        , 0.        , 0.        ,\n",
       "       0.        , 0.04166667, 0.04166667, 0.04166667, 0.        ,\n",
       "       0.04166667, 0.        , 0.        , 0.04166667, 0.04166667,\n",
       "       0.04166667, 0.04166667, 0.04166667, 0.04166667, 0.        ,\n",
       "       0.04166667, 0.        , 0.08333333, 0.04166667, 0.04166667,\n",
       "       0.04166667, 0.04166667])"
      ]
     },
     "execution_count": 11,
     "metadata": {},
     "output_type": "execute_result"
    }
   ],
   "source": [
    "p0V"
   ]
  },
  {
   "cell_type": "code",
   "execution_count": 12,
   "metadata": {},
   "outputs": [
    {
     "data": {
      "text/plain": [
       "array([0.        , 0.05263158, 0.        , 0.        , 0.05263158,\n",
       "       0.        , 0.        , 0.05263158, 0.05263158, 0.05263158,\n",
       "       0.05263158, 0.        , 0.        , 0.        , 0.05263158,\n",
       "       0.        , 0.15789474, 0.10526316, 0.        , 0.        ,\n",
       "       0.        , 0.        , 0.05263158, 0.        , 0.05263158,\n",
       "       0.        , 0.05263158, 0.05263158, 0.        , 0.05263158,\n",
       "       0.        , 0.10526316])"
      ]
     },
     "execution_count": 12,
     "metadata": {},
     "output_type": "execute_result"
    }
   ],
   "source": [
    "p1V"
   ]
  },
  {
   "cell_type": "markdown",
   "metadata": {},
   "source": [
    "* 词汇表中的第一个词是cute，其在类别0中出现1次，而在类别1中从未出现。对应的条件概率分别为0.04166667与0.0。该计算是正确的。\n",
    "* 所有概率中的最大值出现在P(1)数组第26个下标位置，大小为0.15789474。在myVocabList的第26个下标位置上可以查到该单词是stupid。这意味着stupid是最能表征类别1（侮\n",
    "辱性文档类）的单词。 "
   ]
  },
  {
   "cell_type": "markdown",
   "metadata": {},
   "source": [
    "#### 3.测试算法：根据现实情况修改分类器\n",
    "* 计算条件概率时，如果其中一个概率值为0，那么最后的乘积也为0。为降低这种影响，可以将所有词的出现数初始化为1，并将分母初始化为2。\n",
    "* 另一个遇到的问题是下溢出，这是由于太多很小的数相乘造成的。当计算条件概率时，由于大部分因子都非常小，所以程序会下溢出或者得到不正确的答案。（读者可以用Python尝试相乘许多很小的数，最后四舍五入后会得到0。）一种解决办法是对乘积取自然对数。\n",
    "* 在代数中有$ln(a*b) = ln(a)+ln(b)$，于是通过求对数可以避免下溢出或者浮点数舍入导致的错误。同时，采用自然对数进行处理不会有任何损失，因为根据函数图像它们在相同区域内同时增加或者减少，并且在相同点上取到极值。它们的取值虽然不同，但不影响最终结果。"
   ]
  },
  {
   "cell_type": "code",
   "execution_count": 13,
   "metadata": {},
   "outputs": [],
   "source": [
    "# 修改函数\n",
    "def trainNB0(trainMatrix,trainCategory):\n",
    "    numTrainDocs = len(trainMatrix)\n",
    "    numWords = len(trainMatrix[0])\n",
    "    pAbusive = sum(trainCategory)/float(numTrainDocs)\n",
    "    p0Num = ones(numWords); p1Num = ones(numWords)      # ones() \n",
    "    p0Denom = 2.0; p1Denom = 2.0                        # 分母2.0\n",
    "    for i in range(numTrainDocs):\n",
    "        if trainCategory[i] == 1:\n",
    "            p1Num += trainMatrix[i]\n",
    "            p1Denom += sum(trainMatrix[i])\n",
    "        else:\n",
    "            p0Num += trainMatrix[i]\n",
    "            p0Denom += sum(trainMatrix[i])\n",
    "    p1Vect = log(p1Num/p1Denom)                        # log()\n",
    "    p0Vect = log(p0Num/p0Denom)          \n",
    "    return p0Vect,p1Vect,pAbusive"
   ]
  },
  {
   "cell_type": "code",
   "execution_count": 14,
   "metadata": {},
   "outputs": [],
   "source": [
    "def classifyNB(vec2Classify, p0Vec, p1Vec, pClass1):\n",
    "    p1 = sum(vec2Classify * p1Vec) + log(pClass1)        # 对应元素相乘。log变相加\n",
    "    p0 = sum(vec2Classify * p0Vec) + log(1.0 - pClass1)\n",
    "    if p1 > p0:\n",
    "        return 1\n",
    "    else: \n",
    "        return 0"
   ]
  },
  {
   "cell_type": "code",
   "execution_count": 15,
   "metadata": {},
   "outputs": [],
   "source": [
    "# 便利函数：封装所有操作\n",
    "def testingNB():\n",
    "    listOPosts,listClasses = loadDataSet()\n",
    "    myVocabList = createVocabList(listOPosts)\n",
    "    trainMat=[]\n",
    "    for postinDoc in listOPosts:\n",
    "        trainMat.append(setOfWords2Vec(myVocabList, postinDoc))\n",
    "    p0V,p1V,pAb = trainNB0(trainMat,listClasses)\n",
    "    testEntry = ['love', 'my', 'dalmation']\n",
    "    thisDoc = setOfWords2Vec(myVocabList, testEntry)\n",
    "    print (testEntry,'classified as: ',classifyNB(thisDoc,p0V,p1V,pAb))\n",
    "    testEntry = ['stupid', 'garbage']\n",
    "    thisDoc = setOfWords2Vec(myVocabList, testEntry)\n",
    "    print (testEntry,'classified as: ',classifyNB(thisDoc,p0V,p1V,pAb))"
   ]
  },
  {
   "cell_type": "code",
   "execution_count": 16,
   "metadata": {},
   "outputs": [
    {
     "name": "stdout",
     "output_type": "stream",
     "text": [
      "['love', 'my', 'dalmation'] classified as:  0\n",
      "['stupid', 'garbage'] classified as:  1\n"
     ]
    }
   ],
   "source": [
    "testingNB()"
   ]
  },
  {
   "cell_type": "markdown",
   "metadata": {},
   "source": [
    "#### 4.准备数据：文档词袋模型\n",
    "* 上述将每个词的出现与否作为一个特征：词集模型（set-of-words model）。\n",
    "* 如果一个词在文档中出现不止一次，这可能意味着包含该词是否出现在文档中所不能表达的某种信息，这种方法被称为词袋模型（bag-of-words model）。\n",
    "* 在词袋中，每个单词可以出现多次，而在词集中，每个词只能出现一次。为适应词袋模型，需要对函数setOfWords2Vec()稍加修改，修改后的函数称为bagOfWords2Vec()。 "
   ]
  },
  {
   "cell_type": "code",
   "execution_count": 17,
   "metadata": {},
   "outputs": [],
   "source": [
    "# 统计频数\n",
    "def bagOfWords2VecMN(vocabList, inputSet):\n",
    "    returnVec = [0]*len(vocabList)\n",
    "    for word in inputSet:\n",
    "        if word in vocabList:\n",
    "            returnVec[vocabList.index(word)] += 1\n",
    "    return returnVec"
   ]
  },
  {
   "cell_type": "code",
   "execution_count": null,
   "metadata": {},
   "outputs": [],
   "source": []
  }
 ],
 "metadata": {
  "kernelspec": {
   "display_name": "py37",
   "language": "python",
   "name": "py37"
  },
  "language_info": {
   "codemirror_mode": {
    "name": "ipython",
    "version": 3
   },
   "file_extension": ".py",
   "mimetype": "text/x-python",
   "name": "python",
   "nbconvert_exporter": "python",
   "pygments_lexer": "ipython3",
   "version": "3.7.10"
  }
 },
 "nbformat": 4,
 "nbformat_minor": 2
}
